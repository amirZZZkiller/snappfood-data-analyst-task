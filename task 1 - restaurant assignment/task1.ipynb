{
 "cells": [
  {
   "cell_type": "markdown",
   "id": "93300a1c",
   "metadata": {},
   "source": [
    "<h1 style=\"color:#FF00A6; font-weight:bold; font-family:sans-serif;\">\n",
    "  Snappfood Data Analyst Task\n",
    "</h1>\n",
    "\n",
    "<h3 style=\"color:#F9FAFB; font-family:sans-serif;\">\n",
    "  Task 1 – <em>Restaurant Assignment</em>\n",
    "</h3>\n",
    "\n",
    "<p style=\"color:#EBEDF0; font-size:14px; font-family:sans-serif;\">\n",
    "  Assign restaurants to 5 data collectors to minimize total travel distance based on their coordinates.\n",
    "</p>\n",
    "<br>\n",
    "<hr style=\"color:#FF00A6;\">"
   ]
  },
  {
   "cell_type": "markdown",
   "id": "a0ae7c17",
   "metadata": {},
   "source": [
    "# Imports & Setup"
   ]
  },
  {
   "cell_type": "code",
   "execution_count": 8,
   "id": "98d12eac",
   "metadata": {},
   "outputs": [],
   "source": [
    "# Import the importlib module to check if the required libraries are installed\n",
    "import importlib.util\n",
    "\n",
    "# List of required libraries\n",
    "required_libraries = ['requests']\n",
    "\n",
    "# Install the required libraries if they are not already installed\n",
    "for lib in required_libraries:\n",
    "    if importlib.util.find_spec(lib) is None:\n",
    "        %pip install {lib}\n",
    "\n",
    "import requests\n"
   ]
  },
  {
   "cell_type": "markdown",
   "id": "7c12a6a7",
   "metadata": {},
   "source": [
    "# Prepare Dataset"
   ]
  },
  {
   "cell_type": "markdown",
   "id": "d5df1fa7",
   "metadata": {},
   "source": [
    "## Download from Google Sheets"
   ]
  },
  {
   "cell_type": "code",
   "execution_count": 9,
   "id": "3c4ba390",
   "metadata": {},
   "outputs": [
    {
     "name": "stdout",
     "output_type": "stream",
     "text": [
      "Sheet downloaded and saved to './task1_dataset.csv'\n"
     ]
    }
   ],
   "source": [
    "def download_sheet_as_csv(spreadsheet_id, gid, output_path):\n",
    "    url = f\"https://docs.google.com/spreadsheets/d/{spreadsheet_id}/export\"\n",
    "    params = {\n",
    "        \"format\": \"csv\",\n",
    "        \"gid\": gid\n",
    "    }\n",
    "    response = requests.get(url, params=params)\n",
    "\n",
    "    if response.status_code == 200:\n",
    "        with open(output_path, \"wb\") as f:\n",
    "            f.write(response.content)\n",
    "        print(f\"Sheet downloaded and saved to '{output_path}'\")\n",
    "    else:\n",
    "        print(f\"Failed to download sheet. Status code: {response.status_code}\")\n",
    "\n",
    "# Replace with your actual spreadsheet ID and sheet GID\n",
    "SPREADSHEET_ID = \"1ic4RLD_r4ASfl7nRk2ctagH_98j2sPDYN7IB4n6n9e8\"\n",
    "GID = \"0\"  # GID of Task 1 sheet\n",
    "OUTPUT_FILE = \"./task1_dataset.csv\"\n",
    "\n",
    "download_sheet_as_csv(SPREADSHEET_ID, GID, OUTPUT_FILE)\n"
   ]
  },
  {
   "cell_type": "markdown",
   "id": "d374ab6b",
   "metadata": {},
   "source": [
    "## Load Dataset"
   ]
  },
  {
   "cell_type": "code",
   "execution_count": null,
   "id": "54b6981b",
   "metadata": {},
   "outputs": [],
   "source": [
    "df = pd.read_csv(\"task1_restaurant_assignment/task1_restaurants.csv\")\n",
    "\n",
    "# Preview\n",
    "df.head()\n"
   ]
  }
 ],
 "metadata": {
  "kernelspec": {
   "display_name": "Python 3",
   "language": "python",
   "name": "python3"
  },
  "language_info": {
   "codemirror_mode": {
    "name": "ipython",
    "version": 3
   },
   "file_extension": ".py",
   "mimetype": "text/x-python",
   "name": "python",
   "nbconvert_exporter": "python",
   "pygments_lexer": "ipython3",
   "version": "3.11.9"
  }
 },
 "nbformat": 4,
 "nbformat_minor": 5
}
