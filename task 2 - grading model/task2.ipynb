{
 "cells": [
  {
   "cell_type": "markdown",
   "id": "93300a1c",
   "metadata": {},
   "source": [
    "<h1 style=\"color:#FF00A6; font-weight:bold; font-family:sans-serif;\">\n",
    "  Snappfood Data Analyst Task\n",
    "</h1>\n",
    "\n",
    "<h3 style=\"color:#F9FAFB; font-family:sans-serif;\">\n",
    "  Task 2 – <em>Grading Model</em>\n",
    "</h3>\n",
    "\n",
    "<p style=\"color:#EBEDF0; font-size:14px; font-family:sans-serif;\">\n",
    "  Develop a predictive model to estimate restaurant grades based on historical data and identify the most influential features.\n",
    "</p>\n",
    "<br>\n",
    "<hr style=\"color:#FF00A6;\">"
   ]
  },
  {
   "cell_type": "markdown",
   "id": "a0ae7c17",
   "metadata": {},
   "source": [
    "# Imports & Setup"
   ]
  },
  {
   "cell_type": "code",
   "execution_count": 4,
   "id": "98d12eac",
   "metadata": {},
   "outputs": [],
   "source": [
    "# Import the importlib module to check if the required libraries are installed\n",
    "import importlib.util\n",
    "\n",
    "# List of required libraries\n",
    "required_libraries = ['requests', 'pandas']\n",
    "\n",
    "# Install the required libraries if they are not already installed\n",
    "for lib in required_libraries:\n",
    "    if importlib.util.find_spec(lib) is None:\n",
    "        %pip install {lib}\n",
    "\n",
    "import requests\n",
    "import pandas as pd\n"
   ]
  },
  {
   "cell_type": "markdown",
   "id": "f1545896",
   "metadata": {},
   "source": [
    "# Prepare Dataset"
   ]
  },
  {
   "cell_type": "markdown",
   "id": "a6749879",
   "metadata": {},
   "source": [
    "## Downlaod from Google Sheets"
   ]
  },
  {
   "cell_type": "code",
   "execution_count": 2,
   "id": "c519a94d",
   "metadata": {},
   "outputs": [
    {
     "name": "stdout",
     "output_type": "stream",
     "text": [
      "Sheet downloaded and saved to './task2_dataset.csv'\n"
     ]
    }
   ],
   "source": [
    "def download_sheet_as_csv(spreadsheet_id, gid, output_path):\n",
    "    url = f\"https://docs.google.com/spreadsheets/d/{spreadsheet_id}/export\"\n",
    "    params = {\n",
    "        \"format\": \"csv\",\n",
    "        \"gid\": gid\n",
    "    }\n",
    "    response = requests.get(url, params=params)\n",
    "\n",
    "    if response.status_code == 200:\n",
    "        with open(output_path, \"wb\") as f:\n",
    "            f.write(response.content)\n",
    "        print(f\"Sheet downloaded and saved to '{output_path}'\")\n",
    "    else:\n",
    "        print(f\"Failed to download sheet. Status code: {response.status_code}\")\n",
    "\n",
    "# Replace with your actual spreadsheet ID and sheet GID\n",
    "SPREADSHEET_ID = \"1ic4RLD_r4ASfl7nRk2ctagH_98j2sPDYN7IB4n6n9e8\"\n",
    "GID = \"681255617\"  # GID of Task 1 sheet\n",
    "OUTPUT_FILE = \"./task2_dataset.csv\"\n",
    "\n",
    "download_sheet_as_csv(SPREADSHEET_ID, GID, OUTPUT_FILE)\n"
   ]
  },
  {
   "cell_type": "markdown",
   "id": "764b0337",
   "metadata": {},
   "source": [
    "## Load Dataset"
   ]
  },
  {
   "cell_type": "code",
   "execution_count": 5,
   "id": "408f0db8",
   "metadata": {},
   "outputs": [
    {
     "data": {
      "text/html": [
       "<div>\n",
       "<style scoped>\n",
       "    .dataframe tbody tr th:only-of-type {\n",
       "        vertical-align: middle;\n",
       "    }\n",
       "\n",
       "    .dataframe tbody tr th {\n",
       "        vertical-align: top;\n",
       "    }\n",
       "\n",
       "    .dataframe thead th {\n",
       "        text-align: right;\n",
       "    }\n",
       "</style>\n",
       "<table border=\"1\" class=\"dataframe\">\n",
       "  <thead>\n",
       "    <tr style=\"text-align: right;\">\n",
       "      <th></th>\n",
       "      <th>ID</th>\n",
       "      <th>Search Count</th>\n",
       "      <th>Survey</th>\n",
       "      <th>Google Sense</th>\n",
       "      <th>Branch Counts</th>\n",
       "      <th>Marketing area</th>\n",
       "      <th>Grade</th>\n",
       "    </tr>\n",
       "  </thead>\n",
       "  <tbody>\n",
       "    <tr>\n",
       "      <th>0</th>\n",
       "      <td>1001</td>\n",
       "      <td>5435</td>\n",
       "      <td>8</td>\n",
       "      <td>3133.2</td>\n",
       "      <td>2</td>\n",
       "      <td>14</td>\n",
       "      <td>1</td>\n",
       "    </tr>\n",
       "    <tr>\n",
       "      <th>1</th>\n",
       "      <td>1002</td>\n",
       "      <td>6938</td>\n",
       "      <td>35</td>\n",
       "      <td>6816.6</td>\n",
       "      <td>35</td>\n",
       "      <td>6</td>\n",
       "      <td>1</td>\n",
       "    </tr>\n",
       "    <tr>\n",
       "      <th>2</th>\n",
       "      <td>1004</td>\n",
       "      <td>5008</td>\n",
       "      <td>6</td>\n",
       "      <td>339.7</td>\n",
       "      <td>0</td>\n",
       "      <td>29</td>\n",
       "      <td>2</td>\n",
       "    </tr>\n",
       "    <tr>\n",
       "      <th>3</th>\n",
       "      <td>1005</td>\n",
       "      <td>3100</td>\n",
       "      <td>0</td>\n",
       "      <td>838.5</td>\n",
       "      <td>0</td>\n",
       "      <td>20</td>\n",
       "      <td>3</td>\n",
       "    </tr>\n",
       "    <tr>\n",
       "      <th>4</th>\n",
       "      <td>1006</td>\n",
       "      <td>2760</td>\n",
       "      <td>3</td>\n",
       "      <td>1045.0</td>\n",
       "      <td>0</td>\n",
       "      <td>10</td>\n",
       "      <td>4</td>\n",
       "    </tr>\n",
       "  </tbody>\n",
       "</table>\n",
       "</div>"
      ],
      "text/plain": [
       "     ID  Search Count  Survey  Google Sense  Branch Counts  Marketing area  \\\n",
       "0  1001          5435       8        3133.2              2              14   \n",
       "1  1002          6938      35        6816.6             35               6   \n",
       "2  1004          5008       6         339.7              0              29   \n",
       "3  1005          3100       0         838.5              0              20   \n",
       "4  1006          2760       3        1045.0              0              10   \n",
       "\n",
       "   Grade  \n",
       "0      1  \n",
       "1      1  \n",
       "2      2  \n",
       "3      3  \n",
       "4      4  "
      ]
     },
     "execution_count": 5,
     "metadata": {},
     "output_type": "execute_result"
    }
   ],
   "source": [
    "df = pd.read_csv(\"./task2_dataset.csv\")\n",
    "\n",
    "# Preview\n",
    "df.head()\n"
   ]
  }
 ],
 "metadata": {
  "kernelspec": {
   "display_name": "Python 3",
   "language": "python",
   "name": "python3"
  },
  "language_info": {
   "codemirror_mode": {
    "name": "ipython",
    "version": 3
   },
   "file_extension": ".py",
   "mimetype": "text/x-python",
   "name": "python",
   "nbconvert_exporter": "python",
   "pygments_lexer": "ipython3",
   "version": "3.11.9"
  }
 },
 "nbformat": 4,
 "nbformat_minor": 5
}
