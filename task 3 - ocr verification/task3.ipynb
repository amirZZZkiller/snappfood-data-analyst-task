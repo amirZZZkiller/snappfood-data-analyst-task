{
 "cells": [
  {
   "cell_type": "markdown",
   "id": "93300a1c",
   "metadata": {},
   "source": [
    "<h1 style=\"color:#FF00A6; font-weight:bold; font-family:sans-serif;\">\n",
    "  Snappfood Data Analyst Task\n",
    "</h1>\n",
    "\n",
    "<h3 style=\"color:#F9FAFB; font-family:sans-serif;\">\n",
    "  Task 3 – <em>OCR Verification</em>\n",
    "</h3>\n",
    "\n",
    "<p style=\"color:#EBEDF0; font-size:14px; font-family:sans-serif;\">\n",
    "  Extract restaurant names and contact numbers from storefront images using OCR, and verify consistency with structured records.\n",
    "</p>\n",
    "<br>\n",
    "<hr style=\"color:#FF00A6;\">"
   ]
  },
  {
   "cell_type": "markdown",
   "id": "a0ae7c17",
   "metadata": {},
   "source": [
    "# Imports & Setup"
   ]
  },
  {
   "cell_type": "code",
   "execution_count": 51,
   "id": "98d12eac",
   "metadata": {},
   "outputs": [],
   "source": [
    "# Import the importlib module to check if the required libraries are installed\n",
    "import importlib.util\n",
    "\n",
    "# List of required libraries\n",
    "required_libraries = ['requests', 'pandas', 'tqdm']\n",
    "\n",
    "# Install the required libraries if they are not already installed\n",
    "for lib in required_libraries:\n",
    "    if importlib.util.find_spec(lib) is None:\n",
    "        %pip install {lib}\n",
    "\n",
    "import requests\n",
    "import pandas as pd\n",
    "import os\n",
    "import re\n",
    "from tqdm import tqdm\n"
   ]
  },
  {
   "cell_type": "markdown",
   "id": "f1545896",
   "metadata": {},
   "source": [
    "# Prepare Dataset"
   ]
  },
  {
   "cell_type": "markdown",
   "id": "a6749879",
   "metadata": {},
   "source": [
    "## Downlaod from Google Sheets"
   ]
  },
  {
   "cell_type": "code",
   "execution_count": 32,
   "id": "c519a94d",
   "metadata": {},
   "outputs": [
    {
     "name": "stdout",
     "output_type": "stream",
     "text": [
      "Sheet downloaded and saved to './task3_dataset.csv'\n"
     ]
    }
   ],
   "source": [
    "def download_sheet_as_csv(spreadsheet_id, gid, output_path):\n",
    "    url = f\"https://docs.google.com/spreadsheets/d/{spreadsheet_id}/export\"\n",
    "    params = {\n",
    "        \"format\": \"csv\",\n",
    "        \"gid\": gid\n",
    "    }\n",
    "    response = requests.get(url, params=params)\n",
    "\n",
    "    if response.status_code == 200:\n",
    "        with open(output_path, \"wb\") as f:\n",
    "            f.write(response.content)\n",
    "        print(f\"Sheet downloaded and saved to '{output_path}'\")\n",
    "    else:\n",
    "        print(f\"Failed to download sheet. Status code: {response.status_code}\")\n",
    "\n",
    "# Replace with your actual spreadsheet ID and sheet GID\n",
    "SPREADSHEET_ID = \"1ic4RLD_r4ASfl7nRk2ctagH_98j2sPDYN7IB4n6n9e8\"\n",
    "GID = \"912424133\"  # GID of Task 3 sheet\n",
    "OUTPUT_FILE = \"./task3_dataset.csv\"\n",
    "\n",
    "download_sheet_as_csv(SPREADSHEET_ID, GID, OUTPUT_FILE)\n",
    "\n",
    "# Correct the names and save the dataset again\n",
    "df = pd.read_csv(\"./task3_dataset.csv\", encoding=\"utf-8-sig\")\n",
    "df.to_csv(\"task3_dataset.csv\", index=False, encoding=\"utf-8-sig\")\n"
   ]
  },
  {
   "cell_type": "markdown",
   "id": "764b0337",
   "metadata": {},
   "source": [
    "## Image Download"
   ]
  },
  {
   "cell_type": "code",
   "execution_count": 33,
   "id": "408f0db8",
   "metadata": {},
   "outputs": [
    {
     "name": "stdout",
     "output_type": "stream",
     "text": [
      "Downloading images...\n"
     ]
    },
    {
     "name": "stderr",
     "output_type": "stream",
     "text": [
      "100%|██████████| 10/10 [00:54<00:00,  5.49s/it]"
     ]
    },
    {
     "name": "stdout",
     "output_type": "stream",
     "text": [
      "All images processed and stored in 'images/'\n"
     ]
    },
    {
     "name": "stderr",
     "output_type": "stream",
     "text": [
      "\n"
     ]
    }
   ],
   "source": [
    "# Config\n",
    "DATA_PATH = \"task3_dataset.csv\"\n",
    "IMAGE_DIR = \"images\"\n",
    "os.makedirs(IMAGE_DIR, exist_ok=True)\n",
    "\n",
    "# Load Dataset\n",
    "df = pd.read_csv(DATA_PATH, encoding=\"utf-8-sig\")\n",
    "\n",
    "# Utility: Extract File ID from Google Drive Link\n",
    "def extract_drive_file_id(link):\n",
    "    match = re.search(r\"/d/([a-zA-Z0-9_-]+)\", link)\n",
    "    return match.group(1) if match else None\n",
    "\n",
    "# Download Function\n",
    "def download_drive_image(file_id, output_path):\n",
    "    \"\"\"Downloads a file from Google Drive using file ID.\"\"\"\n",
    "    URL = \"https://drive.google.com/uc?export=download\"\n",
    "\n",
    "    session = requests.Session()\n",
    "    response = session.get(URL, params={\"id\": file_id}, stream=True)\n",
    "\n",
    "    if response.status_code == 200:\n",
    "        with open(output_path, \"wb\") as f:\n",
    "            for chunk in response.iter_content(1024):\n",
    "                if chunk:\n",
    "                    f.write(chunk)\n",
    "        return True\n",
    "    else:\n",
    "        return False\n",
    "\n",
    "# Process and Download All Images\n",
    "image_paths = []\n",
    "\n",
    "print(\"Downloading images...\")\n",
    "\n",
    "for idx, row in tqdm(df.iterrows(), total=len(df)):\n",
    "    link = row['Photo']\n",
    "    file_id = extract_drive_file_id(link)\n",
    "\n",
    "    if file_id:\n",
    "        filename = f\"{idx}.jpg\"\n",
    "        save_path = os.path.join(IMAGE_DIR, filename)\n",
    "\n",
    "        success = download_drive_image(file_id, save_path)\n",
    "        image_paths.append(save_path if success else None)\n",
    "    else:\n",
    "        image_paths.append(None)\n",
    "\n",
    "# Add Image Path Column to DataFrame\n",
    "df[\"Image_Path\"] = image_paths\n",
    "print(\"All images processed and stored in 'images/'\")\n",
    "\n",
    "# Optional: Save updated dataset with image paths\n",
    "df.to_csv(\"task3_dataset_with_image_paths.csv\", index=False, encoding=\"utf-8-sig\")\n"
   ]
  },
  {
   "cell_type": "markdown",
   "id": "08a4ce59",
   "metadata": {},
   "source": [
    "## Text Normalization"
   ]
  },
  {
   "cell_type": "code",
   "execution_count": null,
   "id": "13c71d6f",
   "metadata": {},
   "outputs": [],
   "source": [
    "# === Character normalization ===\n",
    "def normalize_text(text):\n",
    "    if pd.isna(text):\n",
    "        return \"\"\n",
    "    text = str(text)\n",
    "\n",
    "    # Persian/Arabic char replacements\n",
    "    replacements = {\n",
    "        \"ي\": \"ی\", \"ك\": \"ک\",  # Arabic to Persian\n",
    "        \"ئ\": \"ی\", \"أ\": \"ا\", \"إ\": \"ا\", \"ۀ\": \"ه\", \"ؤ\": \"و\",\n",
    "    }\n",
    "\n",
    "    for src, dst in replacements.items():\n",
    "        text = text.replace(src, dst)\n",
    "\n",
    "    # Remove Arabic diacritics (harakat)\n",
    "    text = re.sub(r\"[\\u064B-\\u0652]\", \"\", text)\n",
    "\n",
    "    # Remove excessive whitespace & punctuation\n",
    "    text = re.sub(r\"[^\\w\\s\\u0600-\\u06FF]\", \" \", text)  # Keep Persian, English, numbers\n",
    "    text = re.sub(r\"\\s+\", \" \", text).strip()\n",
    "\n",
    "    return text\n"
   ]
  },
  {
   "cell_type": "markdown",
   "id": "760255fd",
   "metadata": {},
   "source": [
    "## Number Normalization"
   ]
  },
  {
   "cell_type": "code",
   "execution_count": 39,
   "id": "255c0816",
   "metadata": {},
   "outputs": [],
   "source": [
    "# === Convert Persian/Arabic numerals to English digits ===\n",
    "def normalize_numbers(text):\n",
    "    if pd.isna(text):\n",
    "        return \"\"\n",
    "\n",
    "    persian_to_english_digits = str.maketrans(\"۰۱۲۳۴۵۶۷۸۹\", \"0123456789\")\n",
    "    text = str(text).translate(persian_to_english_digits)\n",
    "\n",
    "    # Remove dashes, spaces, etc., and return as list of numbers\n",
    "    numbers = re.split(r\"[\\s\\-–—]+\", text)\n",
    "    clean_numbers = [re.sub(r\"[^\\d]\", \"\", num) for num in numbers if re.sub(r\"[^\\d]\", \"\", num)]\n",
    "\n",
    "    return clean_numbers  # returns a list\n"
   ]
  },
  {
   "cell_type": "markdown",
   "id": "ccb7ae9d",
   "metadata": {},
   "source": [
    "## Apply Cleaning"
   ]
  },
  {
   "cell_type": "code",
   "execution_count": 43,
   "id": "1c28b778",
   "metadata": {},
   "outputs": [
    {
     "data": {
      "text/html": [
       "<div>\n",
       "<style scoped>\n",
       "    .dataframe tbody tr th:only-of-type {\n",
       "        vertical-align: middle;\n",
       "    }\n",
       "\n",
       "    .dataframe tbody tr th {\n",
       "        vertical-align: top;\n",
       "    }\n",
       "\n",
       "    .dataframe thead th {\n",
       "        text-align: right;\n",
       "    }\n",
       "</style>\n",
       "<table border=\"1\" class=\"dataframe\">\n",
       "  <thead>\n",
       "    <tr style=\"text-align: right;\">\n",
       "      <th></th>\n",
       "      <th>Name</th>\n",
       "      <th>Normalized_Name</th>\n",
       "      <th>Number</th>\n",
       "      <th>Normalized_Numbers</th>\n",
       "    </tr>\n",
       "  </thead>\n",
       "  <tbody>\n",
       "    <tr>\n",
       "      <th>0</th>\n",
       "      <td>فودلند</td>\n",
       "      <td>فودلند</td>\n",
       "      <td>-</td>\n",
       "      <td>[]</td>\n",
       "    </tr>\n",
       "    <tr>\n",
       "      <th>1</th>\n",
       "      <td>پیتزا فلای لند</td>\n",
       "      <td>پیتزا فلای لند</td>\n",
       "      <td>33290149 - 09116467781</td>\n",
       "      <td>[33290149, 09116467781]</td>\n",
       "    </tr>\n",
       "    <tr>\n",
       "      <th>2</th>\n",
       "      <td>آشپزخانه قصر</td>\n",
       "      <td>آشپزخانه قصر</td>\n",
       "      <td>33236321</td>\n",
       "      <td>[33236321]</td>\n",
       "    </tr>\n",
       "    <tr>\n",
       "      <th>3</th>\n",
       "      <td>فست فود نود</td>\n",
       "      <td>فست فود نود</td>\n",
       "      <td>2133239281</td>\n",
       "      <td>[2133239281]</td>\n",
       "    </tr>\n",
       "    <tr>\n",
       "      <th>4</th>\n",
       "      <td>کبابسرای غفاردایی</td>\n",
       "      <td>کبابسرای غفاردایی</td>\n",
       "      <td>9112815611</td>\n",
       "      <td>[9112815611]</td>\n",
       "    </tr>\n",
       "    <tr>\n",
       "      <th>5</th>\n",
       "      <td>آشپزخانه مهران</td>\n",
       "      <td>آشپزخانه مهران</td>\n",
       "      <td>1733230254</td>\n",
       "      <td>[1733230254]</td>\n",
       "    </tr>\n",
       "    <tr>\n",
       "      <th>6</th>\n",
       "      <td>ریزوتو</td>\n",
       "      <td>ریزوتو</td>\n",
       "      <td>33290352</td>\n",
       "      <td>[33290352]</td>\n",
       "    </tr>\n",
       "    <tr>\n",
       "      <th>7</th>\n",
       "      <td>Fahi yemek</td>\n",
       "      <td>Fahi yemek</td>\n",
       "      <td>09360934063 - 33241720</td>\n",
       "      <td>[09360934063, 33241720]</td>\n",
       "    </tr>\n",
       "    <tr>\n",
       "      <th>8</th>\n",
       "      <td>فست فود 20 فود</td>\n",
       "      <td>فست فود 20 فود</td>\n",
       "      <td>33331212</td>\n",
       "      <td>[33331212]</td>\n",
       "    </tr>\n",
       "    <tr>\n",
       "      <th>9</th>\n",
       "      <td>کبابی محمدی</td>\n",
       "      <td>کبابی محمدی</td>\n",
       "      <td>1733435687</td>\n",
       "      <td>[1733435687]</td>\n",
       "    </tr>\n",
       "  </tbody>\n",
       "</table>\n",
       "</div>"
      ],
      "text/plain": [
       "                Name    Normalized_Name                  Number  \\\n",
       "0             فودلند             فودلند                       -   \n",
       "1     پیتزا فلای لند     پیتزا فلای لند  33290149 - 09116467781   \n",
       "2       آشپزخانه قصر       آشپزخانه قصر                33236321   \n",
       "3        فست فود نود        فست فود نود              2133239281   \n",
       "4  کبابسرای غفاردایی  کبابسرای غفاردایی              9112815611   \n",
       "5     آشپزخانه مهران     آشپزخانه مهران              1733230254   \n",
       "6             ریزوتو             ریزوتو                33290352   \n",
       "7         Fahi yemek         Fahi yemek  09360934063 - 33241720   \n",
       "8     فست فود 20 فود     فست فود 20 فود                33331212   \n",
       "9        کبابی محمدی        کبابی محمدی              1733435687   \n",
       "\n",
       "        Normalized_Numbers  \n",
       "0                       []  \n",
       "1  [33290149, 09116467781]  \n",
       "2               [33236321]  \n",
       "3             [2133239281]  \n",
       "4             [9112815611]  \n",
       "5             [1733230254]  \n",
       "6               [33290352]  \n",
       "7  [09360934063, 33241720]  \n",
       "8               [33331212]  \n",
       "9             [1733435687]  "
      ]
     },
     "execution_count": 43,
     "metadata": {},
     "output_type": "execute_result"
    }
   ],
   "source": [
    "# Normalize name column\n",
    "df[\"Normalized_Name\"] = df[\"Name\"].apply(normalize_text)\n",
    "\n",
    "# Normalize and split numbers\n",
    "df[\"Normalized_Numbers\"] = df[\"Number\"].apply(normalize_numbers)\n",
    "\n",
    "# Preview\n",
    "df[[\"Name\", \"Normalized_Name\", \"Number\", \"Normalized_Numbers\"]]\n"
   ]
  }
 ],
 "metadata": {
  "kernelspec": {
   "display_name": "Python 3",
   "language": "python",
   "name": "python3"
  },
  "language_info": {
   "codemirror_mode": {
    "name": "ipython",
    "version": 3
   },
   "file_extension": ".py",
   "mimetype": "text/x-python",
   "name": "python",
   "nbconvert_exporter": "python",
   "pygments_lexer": "ipython3",
   "version": "3.11.9"
  }
 },
 "nbformat": 4,
 "nbformat_minor": 5
}
