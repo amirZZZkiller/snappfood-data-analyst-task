{
 "cells": [
  {
   "cell_type": "markdown",
   "id": "93300a1c",
   "metadata": {},
   "source": [
    "<h1 style=\"color:#FF00A6; font-weight:bold; font-family:sans-serif;\">\n",
    "  Snappfood Data Analyst Task\n",
    "</h1>\n",
    "\n",
    "<h3 style=\"color:#F9FAFB; font-family:sans-serif;\">\n",
    "  Task 3 – <em>OCR Verification</em>\n",
    "</h3>\n",
    "\n",
    "<p style=\"color:#EBEDF0; font-size:14px; font-family:sans-serif;\">\n",
    "  Extract restaurant names and contact numbers from storefront images using OCR, and verify consistency with structured records.\n",
    "</p>\n",
    "<br>\n",
    "<hr style=\"color:#FF00A6;\">"
   ]
  },
  {
   "cell_type": "markdown",
   "id": "a0ae7c17",
   "metadata": {},
   "source": [
    "# Imports & Setup"
   ]
  },
  {
   "cell_type": "code",
   "execution_count": 25,
   "id": "98d12eac",
   "metadata": {},
   "outputs": [],
   "source": [
    "# Import the importlib module to check if the required libraries are installed\n",
    "import importlib.util\n",
    "\n",
    "# List of required libraries\n",
    "required_libraries = ['requests', 'pandas', 'tqdm']\n",
    "\n",
    "# Install the required libraries if they are not already installed\n",
    "for lib in required_libraries:\n",
    "    if importlib.util.find_spec(lib) is None:\n",
    "        %pip install {lib}\n",
    "\n",
    "import requests\n",
    "import pandas as pd\n",
    "import os\n",
    "import re\n",
    "from tqdm import tqdm\n"
   ]
  },
  {
   "cell_type": "markdown",
   "id": "f1545896",
   "metadata": {},
   "source": [
    "# Prepare Dataset"
   ]
  },
  {
   "cell_type": "markdown",
   "id": "a6749879",
   "metadata": {},
   "source": [
    "## Downlaod from Google Sheets"
   ]
  },
  {
   "cell_type": "code",
   "execution_count": 32,
   "id": "c519a94d",
   "metadata": {},
   "outputs": [
    {
     "name": "stdout",
     "output_type": "stream",
     "text": [
      "Sheet downloaded and saved to './task3_dataset.csv'\n"
     ]
    }
   ],
   "source": [
    "def download_sheet_as_csv(spreadsheet_id, gid, output_path):\n",
    "    url = f\"https://docs.google.com/spreadsheets/d/{spreadsheet_id}/export\"\n",
    "    params = {\n",
    "        \"format\": \"csv\",\n",
    "        \"gid\": gid\n",
    "    }\n",
    "    response = requests.get(url, params=params)\n",
    "\n",
    "    if response.status_code == 200:\n",
    "        with open(output_path, \"wb\") as f:\n",
    "            f.write(response.content)\n",
    "        print(f\"Sheet downloaded and saved to '{output_path}'\")\n",
    "    else:\n",
    "        print(f\"Failed to download sheet. Status code: {response.status_code}\")\n",
    "\n",
    "# Replace with your actual spreadsheet ID and sheet GID\n",
    "SPREADSHEET_ID = \"1ic4RLD_r4ASfl7nRk2ctagH_98j2sPDYN7IB4n6n9e8\"\n",
    "GID = \"912424133\"  # GID of Task 3 sheet\n",
    "OUTPUT_FILE = \"./task3_dataset.csv\"\n",
    "\n",
    "download_sheet_as_csv(SPREADSHEET_ID, GID, OUTPUT_FILE)\n",
    "\n",
    "# Correct the names and save the dataset again\n",
    "df = pd.read_csv(\"./task3_dataset.csv\", encoding=\"utf-8-sig\")\n",
    "df.to_csv(\"task3_dataset.csv\", index=False, encoding=\"utf-8-sig\")\n"
   ]
  },
  {
   "cell_type": "markdown",
   "id": "764b0337",
   "metadata": {},
   "source": [
    "## Image Download"
   ]
  },
  {
   "cell_type": "code",
   "execution_count": 33,
   "id": "408f0db8",
   "metadata": {},
   "outputs": [
    {
     "name": "stdout",
     "output_type": "stream",
     "text": [
      "Downloading images...\n"
     ]
    },
    {
     "name": "stderr",
     "output_type": "stream",
     "text": [
      "100%|██████████| 10/10 [00:54<00:00,  5.49s/it]"
     ]
    },
    {
     "name": "stdout",
     "output_type": "stream",
     "text": [
      "All images processed and stored in 'images/'\n"
     ]
    },
    {
     "name": "stderr",
     "output_type": "stream",
     "text": [
      "\n"
     ]
    }
   ],
   "source": [
    "# Config\n",
    "DATA_PATH = \"task3_dataset.csv\"\n",
    "IMAGE_DIR = \"images\"\n",
    "os.makedirs(IMAGE_DIR, exist_ok=True)\n",
    "\n",
    "# Load Dataset\n",
    "df = pd.read_csv(DATA_PATH, encoding=\"utf-8-sig\")\n",
    "\n",
    "# Utility: Extract File ID from Google Drive Link\n",
    "def extract_drive_file_id(link):\n",
    "    match = re.search(r\"/d/([a-zA-Z0-9_-]+)\", link)\n",
    "    return match.group(1) if match else None\n",
    "\n",
    "# Download Function\n",
    "def download_drive_image(file_id, output_path):\n",
    "    \"\"\"Downloads a file from Google Drive using file ID.\"\"\"\n",
    "    URL = \"https://drive.google.com/uc?export=download\"\n",
    "\n",
    "    session = requests.Session()\n",
    "    response = session.get(URL, params={\"id\": file_id}, stream=True)\n",
    "\n",
    "    if response.status_code == 200:\n",
    "        with open(output_path, \"wb\") as f:\n",
    "            for chunk in response.iter_content(1024):\n",
    "                if chunk:\n",
    "                    f.write(chunk)\n",
    "        return True\n",
    "    else:\n",
    "        return False\n",
    "\n",
    "# Process and Download All Images\n",
    "image_paths = []\n",
    "\n",
    "print(\"Downloading images...\")\n",
    "\n",
    "for idx, row in tqdm(df.iterrows(), total=len(df)):\n",
    "    link = row['Photo']\n",
    "    file_id = extract_drive_file_id(link)\n",
    "\n",
    "    if file_id:\n",
    "        filename = f\"{idx}.jpg\"\n",
    "        save_path = os.path.join(IMAGE_DIR, filename)\n",
    "\n",
    "        success = download_drive_image(file_id, save_path)\n",
    "        image_paths.append(save_path if success else None)\n",
    "    else:\n",
    "        image_paths.append(None)\n",
    "\n",
    "# Add Image Path Column to DataFrame\n",
    "df[\"Image_Path\"] = image_paths\n",
    "print(\"All images processed and stored in 'images/'\")\n",
    "\n",
    "# Optional: Save updated dataset with image paths\n",
    "df.to_csv(\"task3_dataset_with_image_paths.csv\", index=False, encoding=\"utf-8-sig\")\n"
   ]
  }
 ],
 "metadata": {
  "kernelspec": {
   "display_name": "Python 3",
   "language": "python",
   "name": "python3"
  },
  "language_info": {
   "codemirror_mode": {
    "name": "ipython",
    "version": 3
   },
   "file_extension": ".py",
   "mimetype": "text/x-python",
   "name": "python",
   "nbconvert_exporter": "python",
   "pygments_lexer": "ipython3",
   "version": "3.11.9"
  }
 },
 "nbformat": 4,
 "nbformat_minor": 5
}
