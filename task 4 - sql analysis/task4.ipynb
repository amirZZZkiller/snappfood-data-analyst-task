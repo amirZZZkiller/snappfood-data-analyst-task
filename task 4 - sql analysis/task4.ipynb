{
 "cells": [
  {
   "cell_type": "markdown",
   "id": "93300a1c",
   "metadata": {},
   "source": [
    "<h1 style=\"color:#FF00A6; font-weight:bold; font-family:sans-serif;\">\n",
    "  Snappfood Data Analyst Task\n",
    "</h1>\n",
    "\n",
    "<h3 style=\"color:#F9FAFB; font-family:sans-serif;\">\n",
    "  Task 4 – <em>SQL Analysis</em>\n",
    "</h3>\n",
    "\n",
    "<p style=\"color:#EBEDF0; font-size:14px; font-family:sans-serif;\">\n",
    "  Analyze vendor sales data and use SQL and Python to calculate total revenue, total profit, average order value (AOV), and identify the top-performing vendor based on profit.\n",
    "</p>\n",
    "<br>\n",
    "<hr style=\"color:#FF00A6;\">"
   ]
  },
  {
   "cell_type": "markdown",
   "id": "a0ae7c17",
   "metadata": {},
   "source": [
    "# Imports & Setup"
   ]
  },
  {
   "cell_type": "code",
   "execution_count": 2,
   "id": "98d12eac",
   "metadata": {},
   "outputs": [],
   "source": [
    "# Import the importlib module to check if the required libraries are installed\n",
    "import importlib.util\n",
    "\n",
    "# List of required libraries\n",
    "required_libraries = ['requests', 'pandas']\n",
    "\n",
    "# Install the required libraries if they are not already installed\n",
    "for lib in required_libraries:\n",
    "    if importlib.util.find_spec(lib) is None:\n",
    "        %pip install {lib}\n",
    "\n",
    "import requests\n",
    "import pandas as pd\n",
    "from io import StringIO\n"
   ]
  },
  {
   "cell_type": "markdown",
   "id": "f1545896",
   "metadata": {},
   "source": [
    "# Prepare Dataset"
   ]
  },
  {
   "cell_type": "markdown",
   "id": "a6749879",
   "metadata": {},
   "source": [
    "## Downlaod from Google Sheets"
   ]
  },
  {
   "cell_type": "code",
   "execution_count": 9,
   "id": "c519a94d",
   "metadata": {},
   "outputs": [
    {
     "name": "stdout",
     "output_type": "stream",
     "text": [
      "Sales data saved to: ./task4_data_sales.csv\n",
      "Profit margin data saved to: ./task4_data_profit_margins.csv\n"
     ]
    }
   ],
   "source": [
    "def download_and_split_task4_data(spreadsheet_id, gid, output_sales, output_margins):\n",
    "    url = f\"https://docs.google.com/spreadsheets/d/{spreadsheet_id}/export\"\n",
    "    params = {\"format\": \"csv\", \"gid\": gid}\n",
    "    response = requests.get(url, params=params)\n",
    "\n",
    "    if response.status_code == 200:\n",
    "        # Load the entire sheet into a DataFrame\n",
    "        csv_data = response.content.decode(\"utf-8\")\n",
    "        df = pd.read_csv(StringIO(csv_data))\n",
    "\n",
    "        # Split into left (sales) and right (profit margins)\n",
    "        df_sales = df.iloc[:, :7]   # Columns A–G\n",
    "        df_margins = df.iloc[:, 11:]  # Columns L–M\n",
    "\n",
    "        # Drop any fully empty rows in either\n",
    "        df_sales = df_sales.dropna(how='all')\n",
    "        df_margins = df_margins.dropna(how='all')\n",
    "\n",
    "        # Rename the Product column\n",
    "        df_margins.columns = ['Product', 'ProfitMargin']\n",
    "\n",
    "        # Save them separately\n",
    "        df_sales.to_csv(output_sales, index=False, encoding='utf-8-sig')\n",
    "        df_margins.to_csv(output_margins, index=False, encoding='utf-8-sig')\n",
    "\n",
    "        print(f\"Sales data saved to: {output_sales}\")\n",
    "        print(f\"Profit margin data saved to: {output_margins}\")\n",
    "\n",
    "    else:\n",
    "        print(f\"Failed to download sheet. Status code: {response.status_code}\")\n",
    "\n",
    "# IDs and output paths\n",
    "SPREADSHEET_ID = \"1ic4RLD_r4ASfl7nRk2ctagH_98j2sPDYN7IB4n6n9e8\"\n",
    "GID = \"1118420990\"  # Task 4 sheet GID\n",
    "OUTPUT_SALES = \"./task4_data_sales.csv\"\n",
    "OUTPUT_MARGINS = \"./task4_data_profit_margins.csv\"\n",
    "\n",
    "download_and_split_task4_data(SPREADSHEET_ID, GID, OUTPUT_SALES, OUTPUT_MARGINS)\n"
   ]
  }
 ],
 "metadata": {
  "kernelspec": {
   "display_name": "Python 3",
   "language": "python",
   "name": "python3"
  },
  "language_info": {
   "codemirror_mode": {
    "name": "ipython",
    "version": 3
   },
   "file_extension": ".py",
   "mimetype": "text/x-python",
   "name": "python",
   "nbconvert_exporter": "python",
   "pygments_lexer": "ipython3",
   "version": "3.11.9"
  }
 },
 "nbformat": 4,
 "nbformat_minor": 5
}
